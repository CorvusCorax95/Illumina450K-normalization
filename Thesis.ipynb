{
 "cells": [
  {
   "cell_type": "markdown",
   "metadata": {},
   "source": [
    "# Data Preprocessing"
   ]
  },
  {
   "cell_type": "code",
   "execution_count": 1,
   "metadata": {},
   "outputs": [],
   "source": [
    "import pandas as pd\n",
    "\n",
    "### FUNCTIONS ###\n",
    "def probetype_to_dataframe(input):\n",
    "    # make dataframe from csv-file\n",
    "    df = pd.read_csv(input, sep=',')\n",
    "\n",
    "    # set probes as index\n",
    "    df_i = df.set_index('probe')\n",
    "    return df_i\n",
    "\n",
    "def add_probetypes(df_dest, df_target):\n",
    "\n",
    "    # search for fitting probe-ids\n",
    "    df_merged = pd.merge(df_dest, df_target, on=\"probe\")\n",
    "\n",
    "    return df_merged"
   ]
  },
  {
   "cell_type": "code",
   "execution_count": 2,
   "metadata": {},
   "outputs": [
    {
     "name": "stdout",
     "output_type": "stream",
     "text": [
      "type        object\n",
      "RB_E_001     int64\n",
      "RB_E_002     int64\n",
      "RB_E_003     int64\n",
      "RB_E_004     int64\n",
      "             ...  \n",
      "RB_E_077     int64\n",
      "RB_E_078     int64\n",
      "RB_E_079     int64\n",
      "RB_E_080     int64\n",
      "RB_E_081     int64\n",
      "Length: 66, dtype: object\n",
      "type        object\n",
      "RB_E_001     int64\n",
      "RB_E_002     int64\n",
      "RB_E_003     int64\n",
      "RB_E_004     int64\n",
      "             ...  \n",
      "RB_E_077     int64\n",
      "RB_E_078     int64\n",
      "RB_E_079     int64\n",
      "RB_E_080     int64\n",
      "RB_E_081     int64\n",
      "Length: 66, dtype: object\n"
     ]
    }
   ],
   "source": [
    "### MAIN ###\n",
    "\n",
    "# rebuild illumina probe tables to dataframe with just probes and types\n",
    "# returns dataframe\n",
    "df_450 = probetype_to_dataframe('illumina-table-450.csv')\n",
    "# df_850 = probetype_to_dataframe('illumina-table-450.csv') -> no 850 found\n",
    "\n",
    "# convert methylation-tables to dataframes\n",
    "#df_values_meth = pd.read_csv('methylation-rb/methylation_meth.wide.tsv', sep='\\t')\n",
    "df_values_meth = pd.read_csv('methylation-rb/short.tsv', sep='\\t')\n",
    "\n",
    "df_values_unmeth = pd.read_csv('methylation-rb/methylation_unmeth.wide.tsv', sep='\\t')\n",
    "\n",
    "# set index to probe-id\n",
    "df_values_meth = df_values_meth.set_index('probe')\n",
    "df_values_unmeth = df_values_unmeth.set_index('probe')\n",
    "\n",
    "# match probes to type in methylation file\n",
    "# returns new dataframe including probe types\n",
    "df_meth_w_types = add_probetypes(df_450, df_values_meth)\n",
    "df_unmeth_w_types = add_probetypes(df_450, df_values_unmeth)\n",
    "\n",
    "print(df_meth_w_types.dtypes)\n",
    "print(df_unmeth_w_types.dtypes)"
   ]
  },
  {
   "cell_type": "markdown",
   "metadata": {},
   "source": [
    "# Normalization Methods\n",
    "\n",
    "* Quantile Normalization (QN)\n",
    "* Beta-Mixture Quantile Normalization (QN.BMIQ)\n",
    "* Functional Normalization"
   ]
  },
  {
   "cell_type": "markdown",
   "metadata": {},
   "source": [
    "## Quantile Normalization (by hand)\n",
    "1. sort each column (each sample)\n",
    "2. compute row means\n",
    "3. replace original data in each column (forces all samples to have the same distribution)\n",
    "4. Use average values to each sample in the original order"
   ]
  },
  {
   "cell_type": "code",
   "execution_count": 3,
   "metadata": {},
   "outputs": [
    {
     "name": "stdout",
     "output_type": "stream",
     "text": [
      "           type  RB_E_001  RB_E_002  RB_E_003  RB_E_004  RB_E_005  RB_E_006  \\\n",
      "probe                                                                         \n",
      "cg00035864   II       632       874       689       484       171       438   \n",
      "cg00061679   II      1234      3163      1354      1783       139       884   \n",
      "cg00063477   II      1827      3334      1353      1996       187      1815   \n",
      "cg00005617   II     12919     12433     13714     12747      9402     14419   \n",
      "cg00006815   II       683       935      1820       983      9077       796   \n",
      "...         ...       ...       ...       ...       ...       ...       ...   \n",
      "cg00107488   II      4416      1487      4243      3667      1473      4573   \n",
      "cg00107490   II     14283     17241     16416     15753     16900     14969   \n",
      "cg00107982    I      1710      3103      3963      3231      4981      1531   \n",
      "cg00108569    I       311       321       464       388       467       692   \n",
      "cg00110039   II      2038      1012      1522      1228      1798      1350   \n",
      "\n",
      "            RB_E_007  RB_E_008  RB_E_009  ...  RB_E_065  RB_E_066  RB_E_067  \\\n",
      "probe                                     ...                                 \n",
      "cg00035864       419      1203      2024  ...       868      1861      2430   \n",
      "cg00061679       571      2498      2688  ...      2626      4470      6782   \n",
      "cg00063477      2855      6351      3481  ...      1876      1325      2599   \n",
      "cg00005617     10003     10215     12384  ...     10720     12214     13936   \n",
      "cg00006815       972      1238       985  ...       891       697       844   \n",
      "...              ...       ...       ...  ...       ...       ...       ...   \n",
      "cg00107488      2968       925      1363  ...       873      3082      2485   \n",
      "cg00107490     13556     14385     18086  ...     13664     16300     15331   \n",
      "cg00107982       983      4873      5187  ...      4111      4629      2474   \n",
      "cg00108569       335       378       336  ...       316       530       371   \n",
      "cg00110039       755      3047      1587  ...      2034      3892      3774   \n",
      "\n",
      "            RB_E_069_FR  RB_E_076  RB_E_077  RB_E_078  RB_E_079  RB_E_080  \\\n",
      "probe                                                                       \n",
      "cg00035864          197       144       883       142       127       363   \n",
      "cg00061679          207       163      1993       285       126      2150   \n",
      "cg00063477          262       236      1820       133       101      1851   \n",
      "cg00005617        12932      9372     13645     11382     13769     13261   \n",
      "cg00006815         3863      1274       745      2621      3739       823   \n",
      "...                 ...       ...       ...       ...       ...       ...   \n",
      "cg00107488         1610      1831       759       886       876       996   \n",
      "cg00107490        16421     14467     15132     15784     15014     15177   \n",
      "cg00107982          979      2324      4682      4273      4391       925   \n",
      "cg00108569          600       301       279       410       291       235   \n",
      "cg00110039         4579       664      1609      1689       972      1175   \n",
      "\n",
      "            RB_E_081  \n",
      "probe                 \n",
      "cg00035864       121  \n",
      "cg00061679       202  \n",
      "cg00063477       153  \n",
      "cg00005617      9105  \n",
      "cg00006815      6433  \n",
      "...              ...  \n",
      "cg00107488       850  \n",
      "cg00107490     11541  \n",
      "cg00107982      2996  \n",
      "cg00108569       288  \n",
      "cg00110039       814  \n",
      "\n",
      "[2398 rows x 66 columns]\n"
     ]
    }
   ],
   "source": [
    "import numpy as np\n",
    "import pandas as pd\n",
    "import seaborn as sns\n",
    "import matplotlib.pyplot as plt\n",
    "\n",
    "# columns: samples\n",
    "# rows: probes (Sonden)\n",
    "data = np.random.randint(low=0, high=10, size=(5,4))\n",
    "data_df = pd.DataFrame(data, index=['cg0', 'cg1', 'cg2', 'cg3', 'cg4'], columns=['sample 0','sample 1','sample 2','sample 3'])\n",
    "data_df = df_meth_w_types\n",
    "print(data_df)"
   ]
  },
  {
   "cell_type": "code",
   "execution_count": 4,
   "metadata": {},
   "outputs": [
    {
     "name": "stdout",
     "output_type": "stream",
     "text": [
      "           type RB_E_001 RB_E_002 RB_E_003 RB_E_004 RB_E_005 RB_E_006  \\\n",
      "probe                                                                   \n",
      "cg00035864    I       81       75       58       18       47       65   \n",
      "cg00061679    I      108       76       87      130      109       95   \n",
      "cg00063477    I      119      106      149      133      131      134   \n",
      "cg00005617    I      156      120      171      133      139      138   \n",
      "cg00006815    I      160      126      176      134      157      146   \n",
      "...         ...      ...      ...      ...      ...      ...      ...   \n",
      "cg00107488   II    35764    35296    35461    31322    33153    32497   \n",
      "cg00107490   II    38597    35558    35788    33159    33555    32806   \n",
      "cg00107982   II    38659    35870    35997    34574    33625    32992   \n",
      "cg00108569   II    41524    39377    41048    35816    34089    33978   \n",
      "cg00110039   II    42186    42922    41993    36273    37174    35316   \n",
      "\n",
      "           RB_E_007 RB_E_008 RB_E_009  ... RB_E_065 RB_E_066 RB_E_067  \\\n",
      "probe                                  ...                              \n",
      "cg00035864      128       11      141  ...        0        0       24   \n",
      "cg00061679      136       39      143  ...       18       80       76   \n",
      "cg00063477      144       75      147  ...       56       85       96   \n",
      "cg00005617      148       92      150  ...       68       93       96   \n",
      "cg00006815      152       97      153  ...       87       97       96   \n",
      "...             ...      ...      ...  ...      ...      ...      ...   \n",
      "cg00107488    31886    39319    35558  ...    36508    37563    31803   \n",
      "cg00107490    32386    39557    35717  ...    36633    39571    33187   \n",
      "cg00107982    32677    40100    35865  ...    37653    40043    33354   \n",
      "cg00108569    33495    41892    36640  ...    38074    45340    34183   \n",
      "cg00110039    38682    47510    39714  ...    42409    45436    36839   \n",
      "\n",
      "           RB_E_069_FR RB_E_076 RB_E_077 RB_E_078 RB_E_079 RB_E_080 RB_E_081  \n",
      "probe                                                                         \n",
      "cg00035864          39        0        0        0        0        0        0  \n",
      "cg00061679         107       45       48        0        0        6        0  \n",
      "cg00063477         114       73       52       36       62       55       15  \n",
      "cg00005617         136       92       73       54      101      101       27  \n",
      "cg00006815         141      102       97       77      106      104       59  \n",
      "...                ...      ...      ...      ...      ...      ...      ...  \n",
      "cg00107488       36659    29432    32391    33448    34866    32141    32272  \n",
      "cg00107490       39125    31118    32607    33648    36212    32281    32690  \n",
      "cg00107982       40550    31623    33689    33864    36270    33112    33045  \n",
      "cg00108569       41884    31986    33745    34811    37368    37032    33535  \n",
      "cg00110039       43597    33407    34375    35543    38651    37133    35921  \n",
      "\n",
      "[2398 rows x 66 columns]\n"
     ]
    }
   ],
   "source": [
    "# 1. Sorting\n",
    "data_sorted = pd.DataFrame(np.sort(data_df.values, axis=0), index=data_df.index, columns=data_df.columns)\n",
    "print(data_sorted)"
   ]
  },
  {
   "cell_type": "code",
   "execution_count": 5,
   "metadata": {
    "scrolled": true
   },
   "outputs": [
    {
     "name": "stdout",
     "output_type": "stream",
     "text": [
      "probe\n",
      "cg00035864   NaN\n",
      "cg00061679   NaN\n",
      "cg00063477   NaN\n",
      "cg00005617   NaN\n",
      "cg00006815   NaN\n",
      "              ..\n",
      "cg00107488   NaN\n",
      "cg00107490   NaN\n",
      "cg00107982   NaN\n",
      "cg00108569   NaN\n",
      "cg00110039   NaN\n",
      "Length: 2398, dtype: float64\n"
     ]
    },
    {
     "name": "stderr",
     "output_type": "stream",
     "text": [
      "C:\\Users\\lisar\\anaconda3\\lib\\site-packages\\ipykernel_launcher.py:2: FutureWarning: Dropping of nuisance columns in DataFrame reductions (with 'numeric_only=None') is deprecated; in a future version this will raise TypeError.  Select only valid columns before calling the reduction.\n",
      "  \n"
     ]
    }
   ],
   "source": [
    "# 2. Means\n",
    "data_mean = data_sorted.mean(axis=1)\n",
    "print(data_mean)"
   ]
  },
  {
   "cell_type": "code",
   "execution_count": 6,
   "metadata": {},
   "outputs": [
    {
     "name": "stdout",
     "output_type": "stream",
     "text": [
      "1      NaN\n",
      "2      NaN\n",
      "3      NaN\n",
      "4      NaN\n",
      "5      NaN\n",
      "        ..\n",
      "2394   NaN\n",
      "2395   NaN\n",
      "2396   NaN\n",
      "2397   NaN\n",
      "2398   NaN\n",
      "Length: 2398, dtype: float64\n"
     ]
    }
   ],
   "source": [
    "# 3. Replace\n",
    "data_mean.index = np.arange(1, len(data_mean)+1)\n",
    "print(data_mean)"
   ]
  },
  {
   "cell_type": "code",
   "execution_count": 7,
   "metadata": {},
   "outputs": [],
   "source": [
    "# 4. Ranking\n",
    "data_qn = data_df.rank(method=\"min\").stack().astype(int).map(data_mean).unstack()"
   ]
  },
  {
   "cell_type": "code",
   "execution_count": 8,
   "metadata": {},
   "outputs": [
    {
     "name": "stdout",
     "output_type": "stream",
     "text": [
      "            type  RB_E_001  RB_E_002  RB_E_003  RB_E_004  RB_E_005  RB_E_006  \\\n",
      "probe                                                                          \n",
      "cg00035864   NaN       NaN       NaN       NaN       NaN       NaN       NaN   \n",
      "cg00061679   NaN       NaN       NaN       NaN       NaN       NaN       NaN   \n",
      "cg00063477   NaN       NaN       NaN       NaN       NaN       NaN       NaN   \n",
      "cg00005617   NaN       NaN       NaN       NaN       NaN       NaN       NaN   \n",
      "cg00006815   NaN       NaN       NaN       NaN       NaN       NaN       NaN   \n",
      "...          ...       ...       ...       ...       ...       ...       ...   \n",
      "cg00107488   NaN       NaN       NaN       NaN       NaN       NaN       NaN   \n",
      "cg00107490   NaN       NaN       NaN       NaN       NaN       NaN       NaN   \n",
      "cg00107982   NaN       NaN       NaN       NaN       NaN       NaN       NaN   \n",
      "cg00108569   NaN       NaN       NaN       NaN       NaN       NaN       NaN   \n",
      "cg00110039   NaN       NaN       NaN       NaN       NaN       NaN       NaN   \n",
      "\n",
      "            RB_E_007  RB_E_008  RB_E_009  ...  RB_E_065  RB_E_066  RB_E_067  \\\n",
      "probe                                     ...                                 \n",
      "cg00035864       NaN       NaN       NaN  ...       NaN       NaN       NaN   \n",
      "cg00061679       NaN       NaN       NaN  ...       NaN       NaN       NaN   \n",
      "cg00063477       NaN       NaN       NaN  ...       NaN       NaN       NaN   \n",
      "cg00005617       NaN       NaN       NaN  ...       NaN       NaN       NaN   \n",
      "cg00006815       NaN       NaN       NaN  ...       NaN       NaN       NaN   \n",
      "...              ...       ...       ...  ...       ...       ...       ...   \n",
      "cg00107488       NaN       NaN       NaN  ...       NaN       NaN       NaN   \n",
      "cg00107490       NaN       NaN       NaN  ...       NaN       NaN       NaN   \n",
      "cg00107982       NaN       NaN       NaN  ...       NaN       NaN       NaN   \n",
      "cg00108569       NaN       NaN       NaN  ...       NaN       NaN       NaN   \n",
      "cg00110039       NaN       NaN       NaN  ...       NaN       NaN       NaN   \n",
      "\n",
      "            RB_E_069_FR  RB_E_076  RB_E_077  RB_E_078  RB_E_079  RB_E_080  \\\n",
      "probe                                                                       \n",
      "cg00035864          NaN       NaN       NaN       NaN       NaN       NaN   \n",
      "cg00061679          NaN       NaN       NaN       NaN       NaN       NaN   \n",
      "cg00063477          NaN       NaN       NaN       NaN       NaN       NaN   \n",
      "cg00005617          NaN       NaN       NaN       NaN       NaN       NaN   \n",
      "cg00006815          NaN       NaN       NaN       NaN       NaN       NaN   \n",
      "...                 ...       ...       ...       ...       ...       ...   \n",
      "cg00107488          NaN       NaN       NaN       NaN       NaN       NaN   \n",
      "cg00107490          NaN       NaN       NaN       NaN       NaN       NaN   \n",
      "cg00107982          NaN       NaN       NaN       NaN       NaN       NaN   \n",
      "cg00108569          NaN       NaN       NaN       NaN       NaN       NaN   \n",
      "cg00110039          NaN       NaN       NaN       NaN       NaN       NaN   \n",
      "\n",
      "            RB_E_081  \n",
      "probe                 \n",
      "cg00035864       NaN  \n",
      "cg00061679       NaN  \n",
      "cg00063477       NaN  \n",
      "cg00005617       NaN  \n",
      "cg00006815       NaN  \n",
      "...              ...  \n",
      "cg00107488       NaN  \n",
      "cg00107490       NaN  \n",
      "cg00107982       NaN  \n",
      "cg00108569       NaN  \n",
      "cg00110039       NaN  \n",
      "\n",
      "[2398 rows x 66 columns]\n"
     ]
    }
   ],
   "source": [
    "print(data_qn)"
   ]
  },
  {
   "cell_type": "markdown",
   "metadata": {},
   "source": [
    "# Quantile normalization with qnorm"
   ]
  },
  {
   "cell_type": "code",
   "execution_count": 12,
   "metadata": {},
   "outputs": [
    {
     "ename": "TypeError",
     "evalue": "'DataFrame' object is not callable",
     "output_type": "error",
     "traceback": [
      "\u001b[1;31m---------------------------------------------------------------------------\u001b[0m",
      "\u001b[1;31mTypeError\u001b[0m                                 Traceback (most recent call last)",
      "\u001b[1;32m<ipython-input-12-da1ed322db33>\u001b[0m in \u001b[0;36m<module>\u001b[1;34m\u001b[0m\n\u001b[0;32m      5\u001b[0m \u001b[0mdf_values_meth\u001b[0m \u001b[1;33m=\u001b[0m \u001b[0mdf_values_meth\u001b[0m\u001b[1;33m.\u001b[0m\u001b[0mhead\u001b[0m\u001b[1;33m(\u001b[0m\u001b[1;36m50\u001b[0m\u001b[1;33m)\u001b[0m\u001b[1;33m\u001b[0m\u001b[1;33m\u001b[0m\u001b[0m\n\u001b[0;32m      6\u001b[0m \u001b[0mdf_qn\u001b[0m \u001b[1;33m=\u001b[0m \u001b[0mdf_qn\u001b[0m\u001b[1;33m.\u001b[0m\u001b[0mhead\u001b[0m\u001b[1;33m(\u001b[0m\u001b[1;36m50\u001b[0m\u001b[1;33m)\u001b[0m\u001b[1;33m\u001b[0m\u001b[1;33m\u001b[0m\u001b[0m\n\u001b[1;32m----> 7\u001b[1;33m \u001b[0mdf_log\u001b[0m \u001b[1;33m=\u001b[0m \u001b[0mdf_values_meth\u001b[0m\u001b[1;33m(\u001b[0m\u001b[1;32mlambda\u001b[0m \u001b[0mx\u001b[0m\u001b[1;33m:\u001b[0m \u001b[0mmath\u001b[0m\u001b[1;33m.\u001b[0m\u001b[0mlog10\u001b[0m\u001b[1;33m(\u001b[0m\u001b[0mx\u001b[0m\u001b[1;33m)\u001b[0m\u001b[1;33m)\u001b[0m\u001b[1;33m\u001b[0m\u001b[1;33m\u001b[0m\u001b[0m\n\u001b[0m\u001b[0;32m      8\u001b[0m \u001b[1;33m\u001b[0m\u001b[0m\n\u001b[0;32m      9\u001b[0m \u001b[0mprint\u001b[0m\u001b[1;33m(\u001b[0m\u001b[0mdf_log\u001b[0m\u001b[1;33m)\u001b[0m\u001b[1;33m\u001b[0m\u001b[1;33m\u001b[0m\u001b[0m\n",
      "\u001b[1;31mTypeError\u001b[0m: 'DataFrame' object is not callable"
     ]
    }
   ],
   "source": [
    "import pandas as pd\n",
    "import qnorm\n",
    "\n",
    "df_qn = qnorm.quantile_normalize(df_values_meth, axis=1)\n",
    "df_values_meth = df_values_meth.head(50)\n",
    "df_qn = df_qn.head(50)\n",
    "df_log = df_values_meth(lambda x: math.log10(x))\n",
    "\n",
    "print(df_log)\n",
    "print(df_values_meth)\n",
    "print(df_qn)"
   ]
  },
  {
   "cell_type": "markdown",
   "metadata": {},
   "source": [
    "### Raw plot"
   ]
  },
  {
   "cell_type": "code",
   "execution_count": 10,
   "metadata": {},
   "outputs": [
    {
     "data": {
      "text/plain": [
       "(0.0, 20000.0)"
      ]
     },
     "execution_count": 10,
     "metadata": {},
     "output_type": "execute_result"
    },
    {
     "data": {
      "image/png": "[encoded data removed]",
      "text/plain": [
       "<Figure size 432x288 with 1 Axes>"
      ]
     },
     "metadata": {
      "needs_background": "light"
     },
     "output_type": "display_data"
    }
   ],
   "source": [
    "df_values_meth.plot.density(linewidth=4)\n",
    "plt.title(\"Raw density plot\")\n",
    "plt.xlim(0,20000)"
   ]
  },
  {
   "cell_type": "markdown",
   "metadata": {},
   "source": [
    "### Raw log plot"
   ]
  },
  {
   "cell_type": "code",
   "execution_count": 11,
   "metadata": {},
   "outputs": [
    {
     "ename": "NameError",
     "evalue": "name 'log10' is not defined",
     "output_type": "error",
     "traceback": [
      "\u001b[1;31m---------------------------------------------------------------------------\u001b[0m",
      "\u001b[1;31mNameError\u001b[0m                                 Traceback (most recent call last)",
      "\u001b[1;32m<ipython-input-11-8ab2ca84390a>\u001b[0m in \u001b[0;36m<module>\u001b[1;34m\u001b[0m\n\u001b[0;32m      1\u001b[0m \u001b[1;32mimport\u001b[0m \u001b[0mmath\u001b[0m\u001b[1;33m\u001b[0m\u001b[1;33m\u001b[0m\u001b[0m\n\u001b[0;32m      2\u001b[0m \u001b[1;33m\u001b[0m\u001b[0m\n\u001b[1;32m----> 3\u001b[1;33m \u001b[0mdf_values_meth_log\u001b[0m \u001b[1;33m=\u001b[0m \u001b[0mdf_values_meth\u001b[0m\u001b[1;33m.\u001b[0m\u001b[0mapplymap\u001b[0m\u001b[1;33m(\u001b[0m\u001b[0mlog10\u001b[0m\u001b[1;33m,\u001b[0m \u001b[0mna_action\u001b[0m\u001b[1;33m=\u001b[0m\u001b[1;34m'ignore'\u001b[0m\u001b[1;33m)\u001b[0m\u001b[1;33m\u001b[0m\u001b[1;33m\u001b[0m\u001b[0m\n\u001b[0m\u001b[0;32m      4\u001b[0m \u001b[1;33m\u001b[0m\u001b[0m\n\u001b[0;32m      5\u001b[0m \u001b[0mdf_values_meth_log\u001b[0m\u001b[1;33m.\u001b[0m\u001b[0mplot\u001b[0m\u001b[1;33m.\u001b[0m\u001b[0mdensity\u001b[0m\u001b[1;33m(\u001b[0m\u001b[0mlinewidth\u001b[0m\u001b[1;33m=\u001b[0m\u001b[1;36m4\u001b[0m\u001b[1;33m)\u001b[0m\u001b[1;33m\u001b[0m\u001b[1;33m\u001b[0m\u001b[0m\n",
      "\u001b[1;31mNameError\u001b[0m: name 'log10' is not defined"
     ]
    }
   ],
   "source": [
    "import math\n",
    "\n",
    "df_values_meth_log = df_values_meth.applymap(log10, na_action='ignore')\n",
    "\n",
    "df_values_meth_log.plot.density(linewidth=4)\n",
    "plt.title(\"Raw density plot\")\n",
    "#plt.xlim(0,20000)"
   ]
  },
  {
   "cell_type": "markdown",
   "metadata": {},
   "source": [
    "### Quantile normalized plot"
   ]
  },
  {
   "cell_type": "code",
   "execution_count": null,
   "metadata": {},
   "outputs": [],
   "source": [
    "df_qn.plot.density(linewidth=4)\n",
    "plt.title(\"Quantile normalized densities\")\n",
    "plt.xlim(0,20000)"
   ]
  },
  {
   "cell_type": "code",
   "execution_count": null,
   "metadata": {},
   "outputs": [],
   "source": [
    "### Raw boxplot"
   ]
  },
  {
   "cell_type": "code",
   "execution_count": null,
   "metadata": {},
   "outputs": [],
   "source": [
    "sns.boxplot(data=data_df)\n",
    "plt.xlabel(\"Samples\")\n",
    "plt.ylabel(\"Measurement\")\n",
    "plt.title(\"Raw Data Boxplot\")"
   ]
  },
  {
   "cell_type": "code",
   "execution_count": null,
   "metadata": {},
   "outputs": [],
   "source": [
    "### Quantile normalized boxplot"
   ]
  },
  {
   "cell_type": "code",
   "execution_count": null,
   "metadata": {},
   "outputs": [],
   "source": [
    "sns.boxplot(data=data_qn)\n",
    "plt.xlabel(\"Samples\")\n",
    "plt.ylabel(\"Measurement\")\n",
    "plt.title(\"Raw Data Boxplot\")"
   ]
  },
  {
   "cell_type": "markdown",
   "metadata": {},
   "source": [
    "https://ai.recodeminds.com/news/computing-quantile-normalization-in-python/"
   ]
  },
  {
   "cell_type": "markdown",
   "metadata": {},
   "source": [
    "## Functional Normalization\n",
    "* view methylated (M) and unmethylated (U) channels separately\n",
    "* FN applied separately to type I and II probes\n",
    "* 4 separate applications of FN using the exact same covariance matrix with more than 100,000 probes in each normalization fit\n",
    "* normalize mapping of probes to sex chromosomes separately from autosomal probes (males and females separately)\n",
    "* X-chromosome: functional normalization\n",
    "* Y-chromosome: quantile normalization (small number of probes is not good for FN)"
   ]
  },
  {
   "cell_type": "code",
   "execution_count": null,
   "metadata": {},
   "outputs": [],
   "source": [
    "# Y1 - Yn : high-dimensional vectors (observations)\n",
    "list1 = np.random.randint(low=0, high=10, size=(10))\n",
    "Y1 = np.array(list1)\n",
    "print(\"Vector Y1:\", Y1)\n"
   ]
  },
  {
   "cell_type": "code",
   "execution_count": null,
   "metadata": {},
   "outputs": [],
   "source": [
    "# Z : matrix with scalar covariates (nxm)\n",
    "# i indexing samplex, j indexing covariates\n",
    "# covariates are associated with unwanted biological cariation\n",
    "n = 10\n",
    "m = 10\n",
    "matrix = np.random.rand(n,m)\n",
    "print(matrix)"
   ]
  },
  {
   "cell_type": "code",
   "execution_count": null,
   "metadata": {},
   "outputs": [],
   "source": [
    "# for each Y we form the empirical quantile function for its marginal distribution q\n",
    "# r = [0,1]\n",
    "# a (alpha) = mean of the quantile functions across all samples\n",
    "# b (beta) = coefficient functions which are assumed to be independent and centered around 0\n"
   ]
  }
 ],
 "metadata": {
  "kernelspec": {
   "display_name": "Python 3",
   "language": "python",
   "name": "python3"
  },
  "language_info": {
   "codemirror_mode": {
    "name": "ipython",
    "version": 3
   },
   "file_extension": ".py",
   "mimetype": "text/x-python",
   "name": "python",
   "nbconvert_exporter": "python",
   "pygments_lexer": "ipython3",
   "version": "3.7.13"
  },
  "varInspector": {
   "cols": {
    "lenName": 16,
    "lenType": 16,
    "lenVar": 40
   },
   "kernels_config": {
    "python": {
     "delete_cmd_postfix": "",
     "delete_cmd_prefix": "del ",
     "library": "var_list.py",
     "varRefreshCmd": "print(var_dic_list())"
    },
    "r": {
     "delete_cmd_postfix": ") ",
     "delete_cmd_prefix": "rm(",
     "library": "var_list.r",
     "varRefreshCmd": "cat(var_dic_list()) "
    }
   },
   "position": {
    "height": "144.85px",
    "left": "2187px",
    "right": "20px",
    "top": "55px",
    "width": "350px"
   },
   "types_to_exclude": [
    "module",
    "function",
    "builtin_function_or_method",
    "instance",
    "_Feature"
   ],
   "window_display": true
  }
 },
 "nbformat": 4,
 "nbformat_minor": 4
}
