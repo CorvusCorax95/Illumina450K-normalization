{
 "cells": [
  {
   "cell_type": "markdown",
   "metadata": {},
   "source": [
    "# Data Preprocessing"
   ]
  },
  {
   "cell_type": "code",
   "execution_count": 1,
   "metadata": {},
   "outputs": [],
   "source": [
    "import pandas as pd\n",
    "\n",
    "### FUNCTIONS ###\n",
    "def probetype_to_dataframe(input):\n",
    "    # make dataframe from csv-file\n",
    "    df = pd.read_csv(input, sep=',')\n",
    "\n",
    "    # set probes as index\n",
    "    df_i = df.set_index('probe')\n",
    "    return df_i\n",
    "\n",
    "def add_probetypes(df_dest, df_target):\n",
    "\n",
    "    # search for fitting probe-ids\n",
    "    df_merged = pd.merge(df_dest, df_target, on=\"probe\")\n",
    "\n",
    "    return df_merged"
   ]
  },
  {
   "cell_type": "code",
   "execution_count": 2,
   "metadata": {},
   "outputs": [
    {
     "name": "stdout",
     "output_type": "stream",
     "text": [
      "                type  RB_E_001  RB_E_002  RB_E_003  RB_E_004  RB_E_005  \\\n",
      "probe                                                                    \n",
      "cg00035864        II       632       874       689       484       171   \n",
      "cg00061679        II      1234      3163      1354      1783       139   \n",
      "cg00063477        II      1827      3334      1353      1996       187   \n",
      "cg00121626        II       665      8170      2574       827       166   \n",
      "cg00212031         I       229       562       850       483       329   \n",
      "...              ...       ...       ...       ...       ...       ...   \n",
      "ch.22.909671F     II      1469      1362       701      1513      2101   \n",
      "ch.22.46830341F   II       808       803      1237       553      1260   \n",
      "ch.22.1008279F    II       302       419       306       448       303   \n",
      "ch.22.47579720R   II       952      1124      1578       866      1009   \n",
      "ch.22.48274842R   II      1025      1586      1537      1399      3452   \n",
      "\n",
      "                 RB_E_006  RB_E_007  RB_E_008  RB_E_009  ...  RB_E_065  \\\n",
      "probe                                                    ...             \n",
      "cg00035864            438       419      1203      2024  ...       868   \n",
      "cg00061679            884       571      2498      2688  ...      2626   \n",
      "cg00063477           1815      2855      6351      3481  ...      1876   \n",
      "cg00121626           7302       807       732      5475  ...       960   \n",
      "cg00212031            468       390       472       460  ...       399   \n",
      "...                   ...       ...       ...       ...  ...       ...   \n",
      "ch.22.909671F        1618      2245      1328      1446  ...       769   \n",
      "ch.22.46830341F       586       561      1529       879  ...       782   \n",
      "ch.22.1008279F       2202       663       114       315  ...       295   \n",
      "ch.22.47579720R       814       918      1207      1064  ...       927   \n",
      "ch.22.48274842R      1576      1797      2785      1679  ...       982   \n",
      "\n",
      "                 RB_E_066  RB_E_067  RB_E_069_FR  RB_E_076  RB_E_077  \\\n",
      "probe                                                                  \n",
      "cg00035864           1861      2430          197       144       883   \n",
      "cg00061679           4470      6782          207       163      1993   \n",
      "cg00063477           1325      2599          262       236      1820   \n",
      "cg00121626           4283      3695          150       136      2882   \n",
      "cg00212031            518      1092          475       309       583   \n",
      "...                   ...       ...          ...       ...       ...   \n",
      "ch.22.909671F        1191      1225          923       572       853   \n",
      "ch.22.46830341F      7532      2996         1116       716       580   \n",
      "ch.22.1008279F        716       278          337       348       452   \n",
      "ch.22.47579720R      2401      1593          974      1082       895   \n",
      "ch.22.48274842R      3415      1453         1288       877      1911   \n",
      "\n",
      "                 RB_E_078  RB_E_079  RB_E_080  RB_E_081  \n",
      "probe                                                    \n",
      "cg00035864            142       127       363       121  \n",
      "cg00061679            285       126      2150       202  \n",
      "cg00063477            133       101      1851       153  \n",
      "cg00121626            184       156      6096       100  \n",
      "cg00212031            392       518       340       285  \n",
      "...                   ...       ...       ...       ...  \n",
      "ch.22.909671F         573       784       725       806  \n",
      "ch.22.46830341F      1016      1415       484       848  \n",
      "ch.22.1008279F        318       349       299       398  \n",
      "ch.22.47579720R       837       423       951       603  \n",
      "ch.22.48274842R      1863      1248       742       767  \n",
      "\n",
      "[452832 rows x 66 columns]\n",
      "                type  RB_E_001  RB_E_002  RB_E_003  RB_E_004  RB_E_005  \\\n",
      "probe                                                                    \n",
      "cg00035864        II     14541     14111     13819      9329       349   \n",
      "cg00061679        II      8338     10606      9571      7875       270   \n",
      "cg00063477        II       585      1086       341       571       353   \n",
      "cg00121626        II     14149      1806     14006     11665       478   \n",
      "cg00212031         I     17785     17020     18784     15226       755   \n",
      "...              ...       ...       ...       ...       ...       ...   \n",
      "ch.22.909671F     II      1667      1240       601       934      1121   \n",
      "ch.22.46830341F   II     16137     13308     11575     10903     12653   \n",
      "ch.22.1008279F    II     19858     15486     16657     14876     14039   \n",
      "ch.22.47579720R   II     15417     12328     14955     11592     11018   \n",
      "ch.22.48274842R   II     26242     29649     24708     27514     17878   \n",
      "\n",
      "                 RB_E_006  RB_E_007  RB_E_008  RB_E_009  ...  RB_E_065  \\\n",
      "probe                                                    ...             \n",
      "cg00035864           9367      8286     15263      7470  ...     12684   \n",
      "cg00061679           4400      7086      6235      7694  ...      9309   \n",
      "cg00063477            544       528      1106       483  ...       398   \n",
      "cg00121626           1658      9827      7899      2112  ...     14345   \n",
      "cg00212031          17213     14123      4210     14214  ...     16513   \n",
      "...                   ...       ...       ...       ...  ...       ...   \n",
      "ch.22.909671F         671      1147      4084      1167  ...      1323   \n",
      "ch.22.46830341F      7927     10154     11677     13369  ...     18976   \n",
      "ch.22.1008279F      12943     13129     12629     14980  ...     14177   \n",
      "ch.22.47579720R     11875      9607     16660     12421  ...     14029   \n",
      "ch.22.48274842R     27391     27659     20051     27984  ...     29772   \n",
      "\n",
      "                 RB_E_066  RB_E_067  RB_E_069_FR  RB_E_076  RB_E_077  \\\n",
      "probe                                                                  \n",
      "cg00035864          13170     13358          475       238      9338   \n",
      "cg00061679           6702     10934          378       184      2949   \n",
      "cg00063477            654       472          459       320       361   \n",
      "cg00121626           9199     10533          542       205      5523   \n",
      "cg00212031          16892     15096          565       249     11823   \n",
      "...                   ...       ...          ...       ...       ...   \n",
      "ch.22.909671F         878      1157         2265       410       659   \n",
      "ch.22.46830341F      9483     15852        20781     11244      9715   \n",
      "ch.22.1008279F      15458     15705        17740     13867     15912   \n",
      "ch.22.47579720R     15884     14442        16821     12493     10047   \n",
      "ch.22.48274842R     28251     25554        29862     21683     16855   \n",
      "\n",
      "                 RB_E_078  RB_E_079  RB_E_080  RB_E_081  \n",
      "probe                                                    \n",
      "cg00035864            455       160      8039       114  \n",
      "cg00061679            186       197      4863       157  \n",
      "cg00063477            349       368       492       253  \n",
      "cg00121626            264       249      1065       305  \n",
      "cg00212031            428       216      8933       338  \n",
      "...                   ...       ...       ...       ...  \n",
      "ch.22.909671F         630       488       998       489  \n",
      "ch.22.46830341F     10366      7122     10356      9834  \n",
      "ch.22.1008279F      15046     14278     13836     14570  \n",
      "ch.22.47579720R      9850      6542     10163     10104  \n",
      "ch.22.48274842R     15519     22775     22574     22653  \n",
      "\n",
      "[452832 rows x 66 columns]\n"
     ]
    }
   ],
   "source": [
    "### MAIN ###\n",
    "\n",
    "# rebuild illumina probe tables to dataframe with just probes and types\n",
    "# returns dataframe\n",
    "df_450 = probetype_to_dataframe('illumina-table-450.csv')\n",
    "# df_850 = probetype_to_dataframe('illumina-table-450.csv') -> no 850 found\n",
    "\n",
    "# convert methylation-tables to dataframes\n",
    "df_values_meth = pd.read_csv('methylation-rb/methylation_meth.wide.tsv', sep='\\t')\n",
    "df_values_unmeth = pd.read_csv('methylation-rb/methylation_unmeth.wide.tsv', sep='\\t')\n",
    "\n",
    "# set index to probe-id\n",
    "df_values_meth = df_values_meth.set_index('probe')\n",
    "df_values_unmeth = df_values_unmeth.set_index('probe')\n",
    "\n",
    "# match probes to type in methylation file\n",
    "# returns new dataframe including probe types\n",
    "df_meth_w_types = add_probetypes(df_450, df_values_meth)\n",
    "df_unmeth_w_types = add_probetypes(df_450, df_values_unmeth)\n",
    "\n",
    "print(df_meth_w_types)\n",
    "print(df_unmeth_w_types)"
   ]
  },
  {
   "cell_type": "markdown",
   "metadata": {},
   "source": [
    "# Normalization Methods\n",
    "\n",
    "* Quantile Normalization (QN)\n",
    "* Beta-Mixture Quantile Normalization (QN.BMIQ)\n",
    "* Functional Normalization"
   ]
  },
  {
   "cell_type": "code",
   "execution_count": 3,
   "metadata": {},
   "outputs": [
    {
     "name": "stdout",
     "output_type": "stream",
     "text": [
      "     sample 0  sample 1  sample 2  sample 3\n",
      "cg0         3         9         6         1\n",
      "cg1         3         8         0         0\n",
      "cg2         2         4         4         1\n",
      "cg3         4         0         2         5\n",
      "cg4         1         3         8         2\n"
     ]
    }
   ],
   "source": [
    "import numpy as np\n",
    "import pandas as pd\n",
    "import seaborn as sns\n",
    "import matplotlib.pyplot as plt\n",
    "\n",
    "# Creating a random data frame\n",
    "\n",
    "# columns: samples\n",
    "# rows: probes (Sonden)\n",
    "data = np.random.randint(low=0, high=10, size=(5,4))\n",
    "data_df = pd.DataFrame(data, index=['cg0', 'cg1', 'cg2', 'cg3', 'cg4'], columns=['sample 0','sample 1','sample 2','sample 3'])\n",
    "\n",
    "print(data_df)"
   ]
  },
  {
   "cell_type": "markdown",
   "metadata": {},
   "source": [
    "## Quantile Normalization\n",
    "1. sort each column (each sample)\n",
    "2. compute row means\n",
    "3. replace original data in each column (forces all samples to have the same distribution)\n",
    "4. Use average values to each sample in the original order"
   ]
  },
  {
   "cell_type": "code",
   "execution_count": 4,
   "metadata": {},
   "outputs": [
    {
     "name": "stdout",
     "output_type": "stream",
     "text": [
      "     sample 0  sample 1  sample 2  sample 3\n",
      "cg0         1         0         0         0\n",
      "cg1         2         3         2         1\n",
      "cg2         3         4         4         1\n",
      "cg3         3         8         6         2\n",
      "cg4         4         9         8         5\n"
     ]
    }
   ],
   "source": [
    "# 1. Sorting\n",
    "data_sorted = pd.DataFrame(np.sort(data_df.values, axis=0), index=data_df.index, columns=data_df.columns)\n",
    "print(data_sorted)"
   ]
  },
  {
   "cell_type": "code",
   "execution_count": 5,
   "metadata": {
    "scrolled": true
   },
   "outputs": [
    {
     "name": "stdout",
     "output_type": "stream",
     "text": [
      "cg0    0.25\n",
      "cg1    2.00\n",
      "cg2    3.00\n",
      "cg3    4.75\n",
      "cg4    6.50\n",
      "dtype: float64\n"
     ]
    }
   ],
   "source": [
    "# 2. Means\n",
    "data_mean = data_sorted.mean(axis=1)\n",
    "print(data_mean)"
   ]
  },
  {
   "cell_type": "code",
   "execution_count": 6,
   "metadata": {},
   "outputs": [
    {
     "name": "stdout",
     "output_type": "stream",
     "text": [
      "1    0.25\n",
      "2    2.00\n",
      "3    3.00\n",
      "4    4.75\n",
      "5    6.50\n",
      "dtype: float64\n"
     ]
    }
   ],
   "source": [
    "# 3. Replace\n",
    "data_mean.index = np.arange(1, len(data_mean)+1)\n",
    "print(data_mean)"
   ]
  },
  {
   "cell_type": "code",
   "execution_count": 7,
   "metadata": {},
   "outputs": [],
   "source": [
    "# 4. Ranking\n",
    "data_qn = data_df.rank(method=\"min\").stack().astype(int).map(data_mean).unstack()"
   ]
  },
  {
   "cell_type": "code",
   "execution_count": 8,
   "metadata": {},
   "outputs": [
    {
     "name": "stdout",
     "output_type": "stream",
     "text": [
      "     sample 0  sample 1  sample 2  sample 3\n",
      "cg0      3.00      6.50      4.75      2.00\n",
      "cg1      3.00      4.75      0.25      0.25\n",
      "cg2      2.00      3.00      3.00      2.00\n",
      "cg3      6.50      0.25      2.00      6.50\n",
      "cg4      0.25      2.00      6.50      4.75\n"
     ]
    }
   ],
   "source": [
    "print(data_qn)"
   ]
  },
  {
   "cell_type": "markdown",
   "metadata": {},
   "source": [
    "### Raw plot"
   ]
  },
  {
   "cell_type": "code",
   "execution_count": 9,
   "metadata": {},
   "outputs": [
    {
     "data": {
      "text/plain": [
       "Text(0.5, 1.0, 'Raw density plot')"
      ]
     },
     "execution_count": 9,
     "metadata": {},
     "output_type": "execute_result"
    },
    {
     "data": {
      "image/png": "[encoded data removed]",
      "text/plain": [
       "<Figure size 432x288 with 1 Axes>"
      ]
     },
     "metadata": {
      "needs_background": "light"
     },
     "output_type": "display_data"
    }
   ],
   "source": [
    "data_df.plot.density(linewidth=4)\n",
    "plt.title(\"Raw density plot\")"
   ]
  },
  {
   "cell_type": "markdown",
   "metadata": {},
   "source": [
    "### Quantile normalized plot"
   ]
  },
  {
   "cell_type": "code",
   "execution_count": 10,
   "metadata": {},
   "outputs": [
    {
     "data": {
      "text/plain": [
       "Text(0.5, 1.0, 'Quantile normalized densities')"
      ]
     },
     "execution_count": 10,
     "metadata": {},
     "output_type": "execute_result"
    },
    {
     "data": {
      "image/png": "[encoded data removed]",
      "text/plain": [
       "<Figure size 432x288 with 1 Axes>"
      ]
     },
     "metadata": {
      "needs_background": "light"
     },
     "output_type": "display_data"
    }
   ],
   "source": [
    "data_qn.plot.density(linewidth=4)\n",
    "plt.title(\"Quantile normalized densities\")"
   ]
  },
  {
   "cell_type": "code",
   "execution_count": 11,
   "metadata": {},
   "outputs": [],
   "source": [
    "### Raw boxplot"
   ]
  },
  {
   "cell_type": "code",
   "execution_count": 12,
   "metadata": {},
   "outputs": [
    {
     "data": {
      "text/plain": [
       "Text(0.5, 1.0, 'Raw Data Boxplot')"
      ]
     },
     "execution_count": 12,
     "metadata": {},
     "output_type": "execute_result"
    },
    {
     "data": {
      "image/png": "[encoded data removed]",
      "text/plain": [
       "<Figure size 432x288 with 1 Axes>"
      ]
     },
     "metadata": {
      "needs_background": "light"
     },
     "output_type": "display_data"
    }
   ],
   "source": [
    "sns.boxplot(data=data_df)\n",
    "plt.xlabel(\"Samples\")\n",
    "plt.ylabel(\"Measurement\")\n",
    "plt.title(\"Raw Data Boxplot\")"
   ]
  },
  {
   "cell_type": "code",
   "execution_count": 13,
   "metadata": {},
   "outputs": [],
   "source": [
    "### Quantile normalized boxplot"
   ]
  },
  {
   "cell_type": "code",
   "execution_count": 14,
   "metadata": {},
   "outputs": [
    {
     "data": {
      "text/plain": [
       "Text(0.5, 1.0, 'Raw Data Boxplot')"
      ]
     },
     "execution_count": 14,
     "metadata": {},
     "output_type": "execute_result"
    },
    {
     "data": {
      "image/png": "[encoded data removed]",
      "text/plain": [
       "<Figure size 432x288 with 1 Axes>"
      ]
     },
     "metadata": {
      "needs_background": "light"
     },
     "output_type": "display_data"
    }
   ],
   "source": [
    "sns.boxplot(data=data_qn)\n",
    "plt.xlabel(\"Samples\")\n",
    "plt.ylabel(\"Measurement\")\n",
    "plt.title(\"Raw Data Boxplot\")"
   ]
  },
  {
   "cell_type": "markdown",
   "metadata": {},
   "source": [
    "https://ai.recodeminds.com/news/computing-quantile-normalization-in-python/"
   ]
  },
  {
   "cell_type": "markdown",
   "metadata": {},
   "source": [
    "## Functional Normalization\n",
    "* view methylated (M) and unmethylated (U) channels separately\n",
    "* FN applied separately to type I and II probes\n",
    "* 4 separate applications of FN using the exact same covariance matrix with more than 100,000 probes in each normalization fit\n",
    "* normalize mapping of probes to sex chromosomes separately from autosomal probes (males and females separately)\n",
    "* X-chromosome: functional normalization\n",
    "* Y-chromosome: quantile normalization (small number of probes is not good for FN)"
   ]
  },
  {
   "cell_type": "code",
   "execution_count": 15,
   "metadata": {},
   "outputs": [
    {
     "name": "stdout",
     "output_type": "stream",
     "text": [
      "Vector Y1: [0 9 9 4 9 2 5 2 9 6]\n"
     ]
    }
   ],
   "source": [
    "# Y1 - Yn : high-dimensional vectors (observations)\n",
    "list1 = np.random.randint(low=0, high=10, size=(10))\n",
    "Y1 = np.array(list1)\n",
    "print(\"Vector Y1:\", Y1)\n"
   ]
  },
  {
   "cell_type": "code",
   "execution_count": 16,
   "metadata": {},
   "outputs": [
    {
     "name": "stdout",
     "output_type": "stream",
     "text": [
      "[[0.93316586 0.16206673 0.49126904 0.27075384 0.31589546 0.28606136\n",
      "  0.26596739 0.28065382 0.71440215 0.37237886]\n",
      " [0.84708063 0.55488883 0.75948239 0.51253282 0.36983305 0.63079143\n",
      "  0.78238863 0.25525682 0.54445775 0.54166753]\n",
      " [0.61653318 0.12896989 0.04250356 0.33648786 0.63008156 0.08845076\n",
      "  0.93074389 0.78126147 0.08016524 0.87756426]\n",
      " [0.64975666 0.58884018 0.92336735 0.03009763 0.47707472 0.3412438\n",
      "  0.7872248  0.95302708 0.10336237 0.32491058]\n",
      " [0.08873182 0.56733945 0.71944306 0.57651867 0.51191115 0.88060735\n",
      "  0.52086622 0.9145737  0.13203757 0.59002203]\n",
      " [0.87251879 0.93008726 0.81924063 0.24258778 0.61030694 0.59962043\n",
      "  0.15916944 0.95206178 0.57256945 0.15561834]\n",
      " [0.62324736 0.46722167 0.27682303 0.70596476 0.21566144 0.3716765\n",
      "  0.07507414 0.18548598 0.9011992  0.48787886]\n",
      " [0.67381691 0.38267862 0.82773491 0.27468233 0.13385529 0.87827324\n",
      "  0.86172553 0.83849257 0.71889348 0.18786718]\n",
      " [0.78418789 0.91195453 0.13307662 0.5572418  0.17269835 0.04085957\n",
      "  0.83046229 0.70687051 0.95647191 0.80272009]\n",
      " [0.56400203 0.77513487 0.08530905 0.53466654 0.09748107 0.76926293\n",
      "  0.6769068  0.61621577 0.52900686 0.7475522 ]]\n"
     ]
    }
   ],
   "source": [
    "# Z : matrix with scalar covariates (nxm)\n",
    "# i indexing samplex, j indexing covariates\n",
    "# covariates are associated with unwanted biological cariation\n",
    "n = 10\n",
    "m = 10\n",
    "matrix = np.random.rand(n,m)\n",
    "print(matrix)"
   ]
  },
  {
   "cell_type": "code",
   "execution_count": 17,
   "metadata": {},
   "outputs": [],
   "source": [
    "# for each Y we form the empirical quantile function for its marginal distribution q\n",
    "# r = [0,1]\n",
    "# a (alpha) = mean of the quantile functions across all samples\n",
    "# b (beta) = coefficient functions which are assumed to be independent and centered around 0\n"
   ]
  }
 ],
 "metadata": {
  "kernelspec": {
   "display_name": "Python 3",
   "language": "python",
   "name": "python3"
  },
  "language_info": {
   "codemirror_mode": {
    "name": "ipython",
    "version": 3
   },
   "file_extension": ".py",
   "mimetype": "text/x-python",
   "name": "python",
   "nbconvert_exporter": "python",
   "pygments_lexer": "ipython3",
   "version": "3.7.13"
  },
  "varInspector": {
   "cols": {
    "lenName": 16,
    "lenType": 16,
    "lenVar": 40
   },
   "kernels_config": {
    "python": {
     "delete_cmd_postfix": "",
     "delete_cmd_prefix": "del ",
     "library": "var_list.py",
     "varRefreshCmd": "print(var_dic_list())"
    },
    "r": {
     "delete_cmd_postfix": ") ",
     "delete_cmd_prefix": "rm(",
     "library": "var_list.r",
     "varRefreshCmd": "cat(var_dic_list()) "
    }
   },
   "position": {
    "height": "144.85px",
    "left": "2187px",
    "right": "20px",
    "top": "55px",
    "width": "350px"
   },
   "types_to_exclude": [
    "module",
    "function",
    "builtin_function_or_method",
    "instance",
    "_Feature"
   ],
   "window_display": true
  }
 },
 "nbformat": 4,
 "nbformat_minor": 4
}
